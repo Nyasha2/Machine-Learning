{
 "cells": [
  {
   "cell_type": "markdown",
   "metadata": {},
   "source": [
    "# Problem 3"
   ]
  },
  {
   "cell_type": "markdown",
   "metadata": {},
   "source": [
    "Use this notebook to write your code for problem 3."
   ]
  },
  {
   "cell_type": "code",
   "execution_count": 1,
   "metadata": {},
   "outputs": [],
   "source": [
    "import numpy as np\n",
    "import matplotlib.pyplot as plt\n",
    "%matplotlib inline"
   ]
  },
  {
   "cell_type": "markdown",
   "metadata": {},
   "source": [
    "## 3D - Convolutional network"
   ]
  },
  {
   "cell_type": "markdown",
   "metadata": {},
   "source": [
    "As in problem 2, we have conveniently provided for your use code that loads and preprocesses the MNIST data."
   ]
  },
  {
   "cell_type": "code",
   "execution_count": 2,
   "metadata": {},
   "outputs": [],
   "source": [
    "# load MNIST data into PyTorch format\n",
    "import torch\n",
    "import torchvision\n",
    "import torchvision.transforms as transforms\n",
    "\n",
    "# set batch size\n",
    "batch_size = 32\n",
    "\n",
    "# load training data downloaded into data/ folder\n",
    "mnist_training_data = torchvision.datasets.MNIST('data/', train=True, download=True,\n",
    "                                                transform=transforms.ToTensor())\n",
    "# transforms.ToTensor() converts batch of images to 4-D tensor and normalizes 0-255 to 0-1.0\n",
    "training_data_loader = torch.utils.data.DataLoader(mnist_training_data,\n",
    "                                                  batch_size=batch_size,\n",
    "                                                  shuffle=True)\n",
    "\n",
    "# load test data\n",
    "mnist_test_data = torchvision.datasets.MNIST('data/', train=False, download=True,\n",
    "                                                transform=transforms.ToTensor())\n",
    "test_data_loader = torch.utils.data.DataLoader(mnist_test_data,\n",
    "                                                  batch_size=batch_size,\n",
    "                                                  shuffle=False)"
   ]
  },
  {
   "cell_type": "code",
   "execution_count": 3,
   "metadata": {},
   "outputs": [
    {
     "name": "stdout",
     "output_type": "stream",
     "text": [
      "1875 training batches\n",
      "60000 training samples\n",
      "313 validation batches\n"
     ]
    }
   ],
   "source": [
    "# look at the number of batches per epoch for training and validation\n",
    "print(f'{len(training_data_loader)} training batches')\n",
    "print(f'{len(training_data_loader) * batch_size} training samples')\n",
    "print(f'{len(test_data_loader)} validation batches')"
   ]
  },
  {
   "cell_type": "code",
   "execution_count": 4,
   "metadata": {},
   "outputs": [],
   "source": [
    "# sample model\n",
    "import torch.nn as nn\n",
    "\n",
    "model = nn.Sequential(\n",
    "    nn.Conv2d(1, 8, kernel_size=(3,3)),\n",
    "    nn.ReLU(),\n",
    "    nn.MaxPool2d(2),\n",
    "    nn.Dropout(p=0.5),\n",
    "    \n",
    "    nn.Conv2d(8, 8, kernel_size=(3,3)),\n",
    "    nn.ReLU(),\n",
    "    nn.MaxPool2d(2),\n",
    "    nn.Dropout(p=0.5),\n",
    "    \n",
    "    nn.Flatten(),\n",
    "    nn.Linear(25*8, 64),\n",
    "    nn.ReLU(),\n",
    "    nn.Linear(64, 10)\n",
    "    # PyTorch implementation of cross-entropy loss includes softmax layer\n",
    ")"
   ]
  },
  {
   "cell_type": "code",
   "execution_count": 5,
   "metadata": {},
   "outputs": [
    {
     "name": "stdout",
     "output_type": "stream",
     "text": [
      "torch.Size([8, 1, 3, 3])\n",
      "torch.Size([8])\n",
      "torch.Size([8, 8, 3, 3])\n",
      "torch.Size([8])\n",
      "torch.Size([64, 200])\n",
      "torch.Size([64])\n",
      "torch.Size([10, 64])\n",
      "torch.Size([10])\n"
     ]
    }
   ],
   "source": [
    "# why don't we take a look at the shape of the weights for each layer\n",
    "for p in model.parameters():\n",
    "    print(p.data.shape)"
   ]
  },
  {
   "cell_type": "code",
   "execution_count": 6,
   "metadata": {},
   "outputs": [
    {
     "name": "stdout",
     "output_type": "stream",
     "text": [
      "total params: 14178\n"
     ]
    }
   ],
   "source": [
    "# our model has some # of parameters:\n",
    "count = 0\n",
    "for p in model.parameters():\n",
    "    n_params = np.prod(list(p.data.shape)).item()\n",
    "    count += n_params\n",
    "print(f'total params: {count}')"
   ]
  },
  {
   "cell_type": "code",
   "execution_count": 7,
   "metadata": {},
   "outputs": [],
   "source": [
    "# For a multi-class classification problem\n",
    "import torch.optim as optim\n",
    "criterion = nn.CrossEntropyLoss()\n",
    "optimizer = optim.RMSprop(model.parameters())"
   ]
  },
  {
   "cell_type": "code",
   "execution_count": 8,
   "metadata": {},
   "outputs": [
    {
     "name": "stdout",
     "output_type": "stream",
     "text": [
      "Epoch 1/10:...........\n",
      "\tloss: 0.7682, acc: 0.7474, val loss: 0.4914, val acc: 0.8383\n",
      "Epoch 2/10:...........\n",
      "\tloss: 0.4790, acc: 0.8454, val loss: 0.4336, val acc: 0.8588\n",
      "Epoch 3/10:...........\n",
      "\tloss: 0.4535, acc: 0.8542, val loss: 0.4407, val acc: 0.8645\n",
      "Epoch 4/10:...........\n",
      "\tloss: 0.4451, acc: 0.8580, val loss: 0.3782, val acc: 0.8795\n",
      "Epoch 5/10:...........\n",
      "\tloss: 0.4135, acc: 0.8715, val loss: 0.4287, val acc: 0.8699\n",
      "Epoch 6/10:...........\n",
      "\tloss: 0.4105, acc: 0.8727, val loss: 0.3821, val acc: 0.8833\n",
      "Epoch 7/10:...........\n",
      "\tloss: 0.4149, acc: 0.8713, val loss: 0.3488, val acc: 0.8905\n",
      "Epoch 8/10:...........\n",
      "\tloss: 0.4255, acc: 0.8685, val loss: 0.4936, val acc: 0.8483\n",
      "Epoch 9/10:...........\n",
      "\tloss: 0.4057, acc: 0.8750, val loss: 0.3381, val acc: 0.8939\n",
      "Epoch 10/10:...........\n",
      "\tloss: 0.4013, acc: 0.8760, val loss: 0.3749, val acc: 0.8843\n"
     ]
    }
   ],
   "source": [
    "# Train the model for 10 epochs, iterating on the data in batches\n",
    "n_epochs = 10\n",
    "\n",
    "# store metrics\n",
    "training_accuracy_history = np.zeros([n_epochs, 1])\n",
    "training_loss_history = np.zeros([n_epochs, 1])\n",
    "validation_accuracy_history = np.zeros([n_epochs, 1])\n",
    "validation_loss_history = np.zeros([n_epochs, 1])\n",
    "\n",
    "for epoch in range(n_epochs):\n",
    "    print(f'Epoch {epoch+1}/10:', end='')\n",
    "    train_total = 0\n",
    "    train_correct = 0\n",
    "    # train\n",
    "    model.train()\n",
    "    for i, data in enumerate(training_data_loader):\n",
    "        images, labels = data\n",
    "        optimizer.zero_grad()\n",
    "        # forward pass\n",
    "        output = model(images)\n",
    "        # calculate categorical cross entropy loss\n",
    "        loss = criterion(output, labels)\n",
    "        # backward pass\n",
    "        loss.backward()\n",
    "        optimizer.step()\n",
    "        \n",
    "        # track training accuracy\n",
    "        _, predicted = torch.max(output.data, 1)\n",
    "        train_total += labels.size(0)\n",
    "        train_correct += (predicted == labels).sum().item()\n",
    "        # track training loss\n",
    "        training_loss_history[epoch] += loss.item()\n",
    "        # progress update after 180 batches (~1/10 epoch for batch size 32)\n",
    "        if i % 180 == 0: print('.',end='')\n",
    "    training_loss_history[epoch] /= len(training_data_loader)\n",
    "    training_accuracy_history[epoch] = train_correct / train_total\n",
    "    print(f'\\n\\tloss: {training_loss_history[epoch,0]:0.4f}, acc: {training_accuracy_history[epoch,0]:0.4f}',end='')\n",
    "        \n",
    "    # validate\n",
    "    test_total = 0\n",
    "    test_correct = 0\n",
    "    with torch.no_grad():\n",
    "        model.eval()\n",
    "        for i, data in enumerate(test_data_loader):\n",
    "            images, labels = data\n",
    "            # forward pass\n",
    "            output = model(images)\n",
    "            # find accuracy\n",
    "            _, predicted = torch.max(output.data, 1)\n",
    "            test_total += labels.size(0)\n",
    "            test_correct += (predicted == labels).sum().item()\n",
    "            # find loss\n",
    "            loss = criterion(output, labels)\n",
    "            validation_loss_history[epoch] += loss.item()\n",
    "        validation_loss_history[epoch] /= len(test_data_loader)\n",
    "        validation_accuracy_history[epoch] = test_correct / test_total\n",
    "    print(f', val loss: {validation_loss_history[epoch,0]:0.4f}, val acc: {validation_accuracy_history[epoch,0]:0.4f}')"
   ]
  },
  {
   "cell_type": "markdown",
   "metadata": {},
   "source": [
    "Above, we output the training loss/accuracy as well as the validation loss and accuracy. Not bad! Let's see if you can do better."
   ]
  }
 ],
 "metadata": {
  "kernelspec": {
   "display_name": "Python 3",
   "language": "python",
   "name": "python3"
  },
  "language_info": {
   "codemirror_mode": {
    "name": "ipython",
    "version": 3
   },
   "file_extension": ".py",
   "mimetype": "text/x-python",
   "name": "python",
   "nbconvert_exporter": "python",
   "pygments_lexer": "ipython3",
   "version": "3.7.4"
  }
 },
 "nbformat": 4,
 "nbformat_minor": 1
}
